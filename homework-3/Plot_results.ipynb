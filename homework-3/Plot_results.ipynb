{
 "cells": [
  {
   "cell_type": "markdown",
   "metadata": {},
   "source": [
    "## Model overfitting\n",
    "Размер тренировочного набора: 1000 (маленький размер выбран для демонстрации переобучения)\n",
    "\n",
    "Размер валидационного набора: 10000\n",
    "\n",
    "Модели состоят из 9 полносвязных слоев с 32 нейронами в каждом, в качестве функции активации используется tanh/relu\n",
    "\n",
    "В некоторые модели так же добавлены батч-нормализация и дропаут\n",
    "\n",
    "tanh                             | relu\n",
    "-------------------------------- | --------------------------------\n",
    "![tanh error](tanh_error.png)    | ![tanh error](relu_error.png)\n",
    "![tanh error](tanh_accuracy.png) | ![tanh error](relu_accuracy.png)"
   ]
  }
 ],
 "metadata": {
  "kernelspec": {
   "display_name": "Python 3",
   "language": "python",
   "name": "python3"
  },
  "language_info": {
   "codemirror_mode": {
    "name": "ipython",
    "version": 3
   },
   "file_extension": ".py",
   "mimetype": "text/x-python",
   "name": "python",
   "nbconvert_exporter": "python",
   "pygments_lexer": "ipython3",
   "version": "3.6.6"
  },
  "varInspector": {
   "cols": {
    "lenName": 16,
    "lenType": 16,
    "lenVar": 40
   },
   "kernels_config": {
    "python": {
     "delete_cmd_postfix": "",
     "delete_cmd_prefix": "del ",
     "library": "var_list.py",
     "varRefreshCmd": "print(var_dic_list())"
    },
    "r": {
     "delete_cmd_postfix": ") ",
     "delete_cmd_prefix": "rm(",
     "library": "var_list.r",
     "varRefreshCmd": "cat(var_dic_list()) "
    }
   },
   "types_to_exclude": [
    "module",
    "function",
    "builtin_function_or_method",
    "instance",
    "_Feature"
   ],
   "window_display": false
  }
 },
 "nbformat": 4,
 "nbformat_minor": 2
}
